{
 "cells": [
  {
   "cell_type": "markdown",
   "metadata": {},
   "source": [
    "Ludolph\n",
    "=======\n",
    "\n",
    "Ludolph je jednoduchý XMPP klient napísaný v Pythone, ktorý dokáže odpovedať na správy podľa toho ako si ho naprogramujeme ;) \n",
    "\n",
    "![alt text](https://github.com/erigones/Ludolph/raw/master/ludolph/plugins/avatars/ludolph.png \"Ludolph: Monitoring Jabber Bot\")"
   ]
  },
  {
   "cell_type": "markdown",
   "metadata": {},
   "source": [
    "XMPP\n",
    "----\n",
    "\n",
    "**Extensible Messaging and Presence Protocol (XMPP)** (predtým známy ako Jabber) je protokol používaný na sieťovú komunikáciu, podobne ako AIM, ICQ, MSN alebo Skype.\n",
    "\n",
    "XMPP je súbor protokolov a technológií založených na XML, ktoré umožňuje akýmkoľvek dvom entitám na internete vzájomne si vymieňať textové správy, informácie o prítomnosti, a ďalšie štruktúrované informácie v (takmer) reálnom čase.\n",
    "\n",
    "Zoznam verejných jabber serverov: https://xmpp.net/directory.php\n",
    "\n",
    "Opensource jabber servery: https://www.ejabberd.im/, https://prosody.im/\n",
    "\n"
   ]
  },
  {
   "cell_type": "markdown",
   "metadata": {
    "collapsed": false
   },
   "source": [
    "Instalacia Ludolpha\n",
    "------------------\n",
    "\n",
    "Podrobný popis inštalácie na Ludolphovej wiki: https://github.com/erigones/Ludolph/wiki/How-to-install-and-configure-Ludolph\n",
    "\n",
    "Na meetupe budeme inštalovať Ludolpha do virtual environments, resp pyvenv (izolované virtuálne prostredie, ktoré umožnuje inštalovať balíky rôznych verzií nezávisle na balíkoch nainštalovaných v OS.)."
   ]
  },
  {
   "cell_type": "code",
   "execution_count": 1,
   "metadata": {
    "collapsed": false
   },
   "outputs": [
    {
     "ename": "SyntaxError",
     "evalue": "invalid syntax (<ipython-input-1-346069a824b0>, line 1)",
     "output_type": "error",
     "traceback": [
      "\u001b[0;36m  File \u001b[0;32m\"<ipython-input-1-346069a824b0>\"\u001b[0;36m, line \u001b[0;32m1\u001b[0m\n\u001b[0;31m    pip install ludolph\u001b[0m\n\u001b[0m              ^\u001b[0m\n\u001b[0;31mSyntaxError\u001b[0m\u001b[0;31m:\u001b[0m invalid syntax\n"
     ]
    }
   ],
   "source": [
    "pip install ludolph"
   ]
  },
  {
   "cell_type": "markdown",
   "metadata": {
    "collapsed": true
   },
   "source": [
    "Konfiguracia Ludolpha\n",
    "---------------------\n",
    "\n",
    "ulozime si konfiguracny subor na miesto kde ho bude ludolph pri starte hladat:"
   ]
  },
  {
   "cell_type": "code",
   "execution_count": null,
   "metadata": {
    "collapsed": true
   },
   "outputs": [],
   "source": [
    "wget -O ~/.ludolph.cfg https://raw.github.com/erigones/Ludolph/master/ludolph/ludolph.cfg.example "
   ]
  },
  {
   "cell_type": "markdown",
   "metadata": {},
   "source": [
    "V sekcii **[xmpp]** musíme zadefinovat username a password aby sa mal kam prihlásiť Ludolph po spusteni.\n",
    "\n",
    "Máme plne funkčného Jabberbota, ktorý sa po spusteni prihlási a môžeme si ho pridať medzi priateľov a začať s ním komunikovať. \n",
    "\n",
    "Pluginy v Ludolphovi\n",
    "-------------------\n",
    "\n",
    "Podrobný popis tvorby pluginu na Ludolphovej wiki: https://github.com/erigones/Ludolph/wiki/How-to-create-a-plugin\n",
    "\n",
    "Napísať si vlastný plugin do Ludolpha nie je nič zložité, Ludolph má predpripravený \"hello_world\" plugin projekt. Projekt slúži ako čo možno najjednoduchší príklad na vytvorenie pluginu a popisu dekorátorov. \"hello_world\" plugin je štrukturovaný ako inštalovateľný balíček pre PyPI. V prípade pluginu však stačí aby sa súbor nachádazal v python path, tj. aby import bol schopný importovať triedu.\n",
    "\n",
    "Plugin na predpoveď počasia\n",
    "-------------------------\n",
    "\n",
    "Do \"hello_world\" pluginu si pridáme novú metódu, ktorá bude obsahovať nasledovný kód:"
   ]
  },
  {
   "cell_type": "code",
   "execution_count": null,
   "metadata": {
    "collapsed": true
   },
   "outputs": [],
   "source": [
    "import requests\n",
    "\n",
    "def weather(self, msg):\n",
    "    apikey = 'xxxxxxxxxxxxxxxxxxxxxxxxx'\n",
    "    city = 'Bratislava,sk'\n",
    "    url = 'http://api.openweathermap.org/data/2.5/forecast/city?q=%s&APPID=%s&units=metric'\n",
    "\n",
    "    res = requests.get(url % (city, apikey)).json()\n",
    "\n",
    "    # Odpoved obsahuje atribut list, ktory obsauje zoznam odpovedi zodpovedajucich najdenemu mestu. \n",
    "    # Pre jednoduchost vyberieme prvu odpoved\n",
    "\n",
    "    try:\n",
    "        data = res['list'][0]\n",
    "    except IndexError:\n",
    "        return 'Zadane mesto %s nebolo najdene' % city\n",
    "    else:\n",
    "        return 'Teplota: %s, Popis: %s' % (data['main']['temp'], data['weather'][0]['description'])"
   ]
  },
  {
   "cell_type": "code",
   "execution_count": null,
   "metadata": {
    "collapsed": true
   },
   "outputs": [],
   "source": []
  }
 ],
 "metadata": {
  "kernelspec": {
   "display_name": "Python 2",
   "language": "python",
   "name": "python2"
  },
  "language_info": {
   "codemirror_mode": {
    "name": "ipython",
    "version": 2
   },
   "file_extension": ".py",
   "mimetype": "text/x-python",
   "name": "python",
   "nbconvert_exporter": "python",
   "pygments_lexer": "ipython2",
   "version": "2.7.1"
  }
 },
 "nbformat": 4,
 "nbformat_minor": 0
}
