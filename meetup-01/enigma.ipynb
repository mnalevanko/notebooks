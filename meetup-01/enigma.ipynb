{
 "cells": [
  {
   "cell_type": "markdown",
   "metadata": {},
   "source": [
    "Enigma\n",
    "======\n",
    "\n",
    "![Enigma logo](img/Enigma-logo.svg)\n",
    "\n",
    "Enigma bola prenosným elektromechanickým šifrovacím strojom pracujúcim na princípe otáčajúcich sa rotorov. Používala sa v niekoľkých modifikovaných verziách najmä nemeckými ozbrojenými silami pred vypuknutím a počas druhej svetovej vojny.\n",
    "\n",
    "Šifra Enigmy bola Nemcami považovaná za neprelomiteľnú a absolútne bezpečnú, prečo tomu tak bolo si ukážeme na nasledvnom príklade.\n",
    "\n",
    "**Caesarova šifra** (50 p. n. l.) Pri tejto šifre ide o klasický substitučný systém, kde sa jeden znak nahrádza iným. Povedzme, že znak bude nahradený písmenom z abecedy, ktoré sa nachádza o tri pozície vpravo."
   ]
  },
  {
   "cell_type": "code",
   "execution_count": null,
   "metadata": {
    "collapsed": true
   },
   "outputs": [],
   "source": [
    "ALPHABET =   'ABCDEFGHIJKLMNOPQRSTUVWXYZ'\n",
    "SUBSTITUTE = 'DEFGHIJKLMNOPQRSTUVWXYZABC'\n",
    "\n",
    "secret_message = 'Tento text je zasifrovany substitucnou sifrou avsak rozlustit ho nie je vobec zlozite'"
   ]
  },
  {
   "cell_type": "markdown",
   "metadata": {},
   "source": [
    "Zašifrovanie tejto spravy je jednoduché a taktiež jej rozšifrovanie. Na jednom mieste mohlo byť 26 písmen, pri útoku hrubou silou teda neobstojí dlho. Ďalšia slabosť tejto šifry a jej podobných boli lingvistické znaky. Analýza sa robila na základe výskytu znakov v šifre."
   ]
  },
  {
   "cell_type": "code",
   "execution_count": null,
   "metadata": {
    "collapsed": false
   },
   "outputs": [],
   "source": [
    "secret_message = secret_message.strip().replace(' ', '')\n",
    "\n",
    "encrypted_message = ''.join([SUBSTITUTE[ALPHABET.find(i.upper())] for i in secret_message])\n",
    "    \n",
    "print('Šifrovaný text: %s' % encrypted_message)"
   ]
  },
  {
   "cell_type": "markdown",
   "metadata": {},
   "source": [
    "Obdobné substitučné šifry, spolu s tranaspozičnými šiframi a ich kombináciami sa využívali až do konca 19 storočia, kedy prichádzajú prvé šifrovacie stroje. Hlavný rozdiel u Enigmy je že, pri stlačení jedného písmena dva krát po sebe, operátor dostal dva rôzne znaky.\n",
    "\n",
    "![Enigma machine](img/Enigma-machine-labeled.jpg)\n",
    "\n",
    "Tak ako iné, na rotoroch založené šifrovacie stroje, je Enigma kombináciou elektrického a mechanického systému. Mechanický systém je zložený z klávesnice, sady rotačných valcov (alebo rotorov) zoradených na jednej osi a krokového mechanizmu, ktorý otáča postupne jedným alebo niekoľkými rotormi pri každom stlačení.\n",
    "\n",
    "Šifrovanie prebieha takto: po stlačení klávesy sa uzavrie elektrický obvod. Prúd preteká rôznymi súčasťami, až sa nakoniec rozsvieti jedna z mnohých žiaroviek na paneli, čím indikuje výsledné zašifrované písmeno.\n",
    "\n",
    "Rotory\n",
    "------\n",
    "\n",
    "Rotory (tiež rotačné valce) sú srdcom šifrovacieho stroja. Sú uložené vedľa seba, kolíky jedného z nich sa dotýkajú s plochými elektrickými kontaktmi susedného, uzatvárajúc elektrický obvod. Vnútri rotora sa nachádza 26 prevodov spájajúcich zhodne so zvolenou kombináciou kolíky z jednej strany s kontaktmi z druhej. Spôsob káblového prepojenia je iný pre každý typ rotora.\n",
    "\n",
    "![Enigma machine](img/Enigma-rotor-set.png)\n",
    "\n",
    "Enigmy boli vybavené niekoľkými typmi rotorov, no v čase zavedenia ich mali iba tri, krátko po vypuknutí vojny bola súprava rotorov rozšírená na 5, z ktorých sa do použitia v stroji vyberali tri. Kvôli odlíšeniu boli rotory označené rímskymi číslicami I, II, III, IV a V.\n",
    "\n",
    "|   | A | B | C | D | E | F | G | H | I | J | K | L | M | N | O | P | Q | R | S | T | U | V | W | X | Y | Z |\n",
    "|---|---|---|---|---|---|---|---|---|---|---|---|---|---|---|---|---|---|---|---|---|---|---|---|---|---|---|\n",
    "| I | E | K | M | F | L | G | D | Q | V | Z | N | T | O | W | Y | H | X | U | S | P | A | I | B | R | C | J |\n",
    "|II | A | J | D | K | S | I | R | U | X | B | L | H | W | T | M | C | Q | G | Z | N | P | Y | F | V | O | E |\n",
    "|III| B | D | F | H | J | L | C | P | R | T | X | V | Z | N | Y | E | I | W | G | A | K | M | U | S | Q | O |\n",
    "|IV | E | S | O | V | P | Z | J | A | Y | Q | U | I | R | H | X | L | N | F | T | G | K | D | C | M | W | B |\n",
    "|V  | V | Z | B | R | G | I | T | Y | U | P | S | D | N | H | L | X | A | W | M | J | Q | O | F | E | C | K |\n",
    "\n",
    "Každý z nich mal jeden zárez umiestnený v rôznych miestach abecedného krúžku, slúžiaci na jeho otáčanie, vďaka čomu značne narastala zložitosť šifry. Viera konštruktérov stroja, že zavedenie zárezu prakticky znemožní dekódovanie správ sa ukázala mylná, pretože vďaka zavedeniu poľskej „hodinovej metódy“ Jerzyho Różyckiho a neskôr britskej metódy nazvanej „banburismus“ bola nakoniec šifra Enigmy prelomená.\n",
    "\n",
    "|Rotor | Zárez | Následok                                                |\n",
    "|------|-------|---------------------------------------------------------|\n",
    "|I     | Q\t   |Ak sa rotor otočí z Q na R, nasledujúci rotor je otočený |\n",
    "|II    | E\t   |Ak sa rotor otočí z E na F, nasledujúci rotor je otočený |\n",
    "|III   | V\t   |Ak sa rotor otočí z V na W, nasledujúci rotor je otočený |\n",
    "|IV    | J\t   |Ak sa rotor otočí z J na K, nasledujúci rotor je otočený |\n",
    "|V     | Z\t   |Ak sa rotor otočí z Z na A, nasledujúci rotor je otočený |"
   ]
  },
  {
   "cell_type": "code",
   "execution_count": null,
   "metadata": {
    "collapsed": false
   },
   "outputs": [],
   "source": [
    "ROTOR_I = 'EKMFLGDQVZNTOWYHXUSPAIBRCJ'\n",
    "ROTOR_II = 'AJDKSIRUXBLHWTMCQGZNPYFVOE'\n",
    "ROTOR_III = 'BDFHJLCPRTXVZNYEIWGAKMUSQO'\n",
    "ROTOR_IV = 'ESOVPZJAYQUIRHXLNFTGKDCMWB'\n",
    "ROTOR_V = 'VZBRGITYUPSDNHLXAWMJQOFECK'\n",
    "\n",
    "ROTOR_I_NOTCH = 'Q'\n",
    "ROTOR_II_NOTCH = 'E'\n",
    "ROTOR_III_NOTCH = 'V'\n",
    "ROTOR_IV_NOTCH = 'J'\n",
    "ROTOR_V_NOTCH = 'Z'"
   ]
  },
  {
   "cell_type": "markdown",
   "metadata": {},
   "source": [
    "Reflektor\n",
    "---------\n",
    "\n",
    "Úlohou reflektora bolo spojenie elektrických kontaktov do párov a spätné presmerovanie signálu cez sústavu rotorov, ale inou cestou. Reflektor Enigmy je symetrický, čo značí, že zašifrovaná informácia je rozkódovávaná po jej vyslaní tou istou cestou (akoby znovu zakódovaná). Reflektor dáva Enigme ešte jednu vlastnosť, menovite, nikdy nijaké písmeno pred zašifrovaním nemôže mať tú istú hodnotu ako po zašifrovaní (čiže A nikdy nebude po zašifrovaní vystupovať ako A). Vyplýva to z konštrukcie reflektora, ktorý vždy zamieňa znaky pármi. Táto vlastnosť, aj keď mala byť výhodou, je v skutočnosti kryptografickou chybou a bola využitá na prelomenie kódu Enigmy.\n",
    "\n",
    "![Enigma machine](img/Enigma-action.svg)"
   ]
  },
  {
   "cell_type": "code",
   "execution_count": null,
   "metadata": {
    "collapsed": true
   },
   "outputs": [],
   "source": [
    "REFLECTOR = 'ABCDEFGDIJKGMKMIEBFTCVVJAT'"
   ]
  },
  {
   "cell_type": "markdown",
   "metadata": {},
   "source": [
    "Rozvodná doska\n",
    "-------------\n",
    "\n",
    "Rozvodná doska umožňovala rôznorodé okáblovanie, ktoré mohlo byť menené operátorom. Zmena okáblovania rozvodnej dosky napriek svojej jednoduchosti značne zvyšovala komplikáciu šifry Enigmy, dokonca viac než dodatočný rotor. Enigma bez rozvodnej dosky mohla byť rozkódovaná relatívne jednoduchým spôsobom, dokonca aj ručne, ale zmena písmen pomocou nej prinútila dešifrantov k použitiu špeciálnych dekódovacích strojov.\n",
    "\n",
    "Python Enigma\n",
    "========\n",
    "\n",
    "Na začiatok je potrebné enigmu nastaviť. Zadefinujeme si *list* rotorov v ktorom, budeme mat *dictionary* s nastaveniami rotora."
   ]
  },
  {
   "cell_type": "code",
   "execution_count": null,
   "metadata": {
    "collapsed": true
   },
   "outputs": [],
   "source": [
    "ENIGMA = (\n",
    "{\n",
    "    'values': ROTOR_I,\n",
    "    'position': 'M'\n",
    "}, \n",
    "{    \n",
    "    'values': ROTOR_II,\n",
    "    'position': 'C'\n",
    "},\n",
    "{\n",
    "    'values': ROTOR_III,\n",
    "    'position': 'K'\n",
    "})"
   ]
  },
  {
   "cell_type": "markdown",
   "metadata": {},
   "source": [
    "Zadefinujeme si dve funkcie, ktoré predstavujú prúd prechádzajúci rotormi (z ľava do prava a následne obratený v reflektore z prava do ľava). Funkcia vráti substituované písmeno z abecedy v závislosti od umiestnenia na rotore:"
   ]
  },
  {
   "cell_type": "code",
   "execution_count": null,
   "metadata": {
    "collapsed": true
   },
   "outputs": [],
   "source": [
    "def rotor_right_to_left(letter, rotor):\n",
    "    # Vrat poziciu pismena na rotore podla pozicie pismena v abecede\n",
    "    return rotor[ALPHABET.index(letter)]\n",
    "\n",
    "def rotor_left_to_right(letter, rotor):\n",
    "    # Vrat poziciu pismena v abecede podla pozicie pismena na rotore\n",
    "    return ALPHABET[rotor.index(letter)]"
   ]
  },
  {
   "cell_type": "markdown",
   "metadata": {},
   "source": [
    "Ďalšia funkcia bude predstavovať reflektor. Vieme na ktorej poziíci vstupuje prúd do reflektora a potrebujeme vrátiť ďalšiu pozíciu písmena do ktorého vstupoval prúd, t.j. pozíciu odkiaľ bude prúd vystupovať späť do rotorov: "
   ]
  },
  {
   "cell_type": "code",
   "execution_count": null,
   "metadata": {
    "collapsed": true
   },
   "outputs": [],
   "source": [
    "def reflector(position):\n",
    "    # Poloha vstupneho pismena na reflektore\n",
    "    entry_letter = REFLECTOR[position]\n",
    "    # Poloha vystupneho pismena na reflektore\n",
    "    exit_letter = REFLECTOR.index(entry_letter)\n",
    "    \n",
    "    # Ak sa vystupna poloha rovna vstupnej, vrat druhu polohu pismena\n",
    "    # Reflektor obsahuje dane pismeno vzdy dva krat\n",
    "    if exit_letter == position:\n",
    "        return REFLECTOR.rindex(entry_letter)\n",
    "    return exit_letter"
   ]
  },
  {
   "cell_type": "markdown",
   "metadata": {},
   "source": [
    "Vytvoríme si dve pomocné funkcie, ktoré nám uľahčia prácu s abecedou. Keďže rotory boli kruhové, po Z vždy nasleduje A. Prvá funkcia bude zisťovať či posun v abecede pretočí abecedu alebo nie, druhá robí v podstate to isté s rozdielom že na zisťovanie nepoužíva písmeno, ale jeho pozíciu na rotore:"
   ]
  },
  {
   "cell_type": "code",
   "execution_count": null,
   "metadata": {
    "collapsed": true
   },
   "outputs": [],
   "source": [
    "def alpha_rotate(letter, shift):\n",
    "    # Hodnota pismena v ASCII\n",
    "    ascii_letter = ord(letter)\n",
    "    \n",
    "    # Ak je hodnota ASCII aj s posunom vacsia ako 90, pretocili sme sa cez Z a musime pocitat od A\n",
    "    if ascii_letter + shift > 90:\n",
    "        # Vrat pismeno posunute o \"shift\" znakov, s pretocenim abecedy od zaciatku\n",
    "        return chr(64 + (ascii_letter - 90 + shift))\n",
    "    else:\n",
    "        # Vrat pismeno posunute o \"shift\" znakov\n",
    "        return chr(ascii_letter + shift)\n",
    "\n",
    "def calculate_move(position, letter):\n",
    "    # Hodnota pismena na ktorom sa nachadza rotor v ASCII\n",
    "    ascii_position = ord(position)\n",
    "    # Hodnota vystupneho pismena\n",
    "    ascii_letter = ord(letter)\n",
    "    \n",
    "    # Ak je pismeno na rotore dalej ako vystupne pismeno, musime sa pretocit\n",
    "    if ascii_position > ascii_letter:\n",
    "        # Od poctu znakov v abecede odpocitame poziciu rotora a pripocitame vystupne pismeno\n",
    "        shift = 26 - (ascii_position - 65) + (ascii_letter - 65)\n",
    "    else:\n",
    "        # Od vystupneho pismena, odpocitame poziciu rotora\n",
    "        shift = (ascii_letter - 65) - (ascii_position - 65)\n",
    "    \n",
    "    # Vratime celo ciselny zvysok po deleni vysledneho posunu, ak by sa rotor pretocil\n",
    "    return shift % 26"
   ]
  },
  {
   "cell_type": "markdown",
   "metadata": {},
   "source": [
    "Potrebujeme ešte funkciu, ktorá bude otáčať rotorom, ktorej návratová hodnota bude *boolean* označujúci, či rotor prešiel cez zárez a je potrebné posunúť nasledujúci rotor."
   ]
  },
  {
   "cell_type": "code",
   "execution_count": null,
   "metadata": {
    "collapsed": true
   },
   "outputs": [],
   "source": [
    "def rotate_rotor(rotor):\n",
    "    # Posun pozicie rotora o jednu polohu\n",
    "    rotor['position'] = chr(ord(rotor['position']) + 1)\n",
    "    \n",
    "    # Kontrola zarezu, ci treba posunut aj nasledujuci rotor\n",
    "    if rotor['values'] == ROTOR_I and rotor['position'] == 'R':\n",
    "        return True\n",
    "    elif rotor['values'] == ROTOR_II and rotor['position'] == 'F':\n",
    "        return True\n",
    "    elif rotor['values'] == ROTOR_III and rotor['position'] == 'W':\n",
    "        return True\n",
    "    elif rotor['values'] == ROTOR_IV and rotor['position'] == 'K':\n",
    "        return True\n",
    "    elif rotor['values'] == ROTOR_V and rotor['position'] == 'A':\n",
    "        return True\n",
    "    \n",
    "    return False"
   ]
  },
  {
   "cell_type": "markdown",
   "metadata": {},
   "source": [
    "A nakoniec si všetky naše funkcie dáme dohromady a vytvoríme ešte jednu, ktorá bude schopná prekladať celý text."
   ]
  },
  {
   "cell_type": "code",
   "execution_count": null,
   "metadata": {
    "collapsed": false
   },
   "outputs": [],
   "source": [
    "def convert(letter):\n",
    "    # Vypocitame posun na prvom valci, od inicializacneho pismena\n",
    "    shift = ord(letter) - 65\n",
    "    # Pomocna konstanta, ktora oznacuje ci sa ma otocit aj nasledujuci valec\n",
    "    rotate_next = False\n",
    "    \n",
    "    # Prechadzame rotormi v enigme od konca na zaciatok\n",
    "    for i, rotor in enumerate(reversed(ENIGMA)):\n",
    "        # Najskor sa posunie rotor o jednu poziciu pri stlaceni klavesy\n",
    "        if i == 0 or rotate_next:\n",
    "            rotate_next = rotate_rotor(rotor)            \n",
    "\n",
    "        conv_letter = alpha_rotate(rotor['position'], shift)\n",
    "        letter = rotor_right_to_left(conv_letter, rotor['values'])\n",
    "        shift = calculate_move(rotor['position'], letter)\n",
    "\n",
    "    shift = reflector(shift)\n",
    "\n",
    "    # Reflektovany prud prechadza rotormi od zaciatku na koniec\n",
    "    for rotor in ENIGMA:\n",
    "        conv_letter = alpha_rotate(rotor['position'], shift)\n",
    "        letter = rotor_left_to_right(conv_letter, rotor['values'])\n",
    "        shift = calculate_move(rotor['position'], letter)\n",
    "\n",
    "    return ALPHABET[shift]\n",
    "\n",
    "def encrypt(text):\n",
    "    # Text ktory prejde enigmou\n",
    "    encrypted_text = []\n",
    "    # Velmi slabe osetrenie vstupu\n",
    "    text = text.strip().replace(' ', '')\n",
    "    \n",
    "    for i, letter in enumerate(text, 1):\n",
    "        if not letter.isalpha():\n",
    "            continue\n",
    "        \n",
    "        # Uloz pismeno, ktore preslo enigmou\n",
    "        encrypted_text.append(convert(letter.upper()))\n",
    "        \n",
    "        # Enigma standardne, robila text bloky po 4 znakoch\n",
    "        if i % 4 == 0:\n",
    "            encrypted_text.append(' ')\n",
    "\n",
    "\n",
    "            return ' '.join(encrypted_text)"
   ]
  },
  {
   "cell_type": "code",
   "execution_count": null,
   "metadata": {
    "collapsed": false
   },
   "outputs": [],
   "source": [
    "#################################################\n",
    "# Operator, ktory chce zasifrovat spravu musi nastavit Enigmu zalozenim rotorov do vychodzich pozicii\n",
    "####\n",
    "ENIGMA = (\n",
    "{\n",
    "    'values': ROTOR_I,\n",
    "    'position': 'M'\n",
    "},\n",
    "{\n",
    "    'values': ROTOR_II,\n",
    "    'position': 'C'\n",
    "},\n",
    "{\n",
    "    'values': ROTOR_III,\n",
    "    'position': 'K'\n",
    "})\n",
    "\n",
    "message_to_encrypt = 'Enigma Revealed'\n",
    "encrypted_message = encrypt(message_to_encrypt)\n",
    "\n",
    "print('Zasifrovana sprava:', encrypted_message)\n",
    "\n",
    "#################################################\n",
    "# Operator, ktory obdrzi spravu musi nastavit Enigmu do rovnakeho vychodzieho nastavenia ako pri sifrovani\n",
    "####\n",
    "ENIGMA = (\n",
    "{\n",
    "    'values': ROTOR_I,\n",
    "    'position': 'M'\n",
    "},\n",
    "{\n",
    "    'values': ROTOR_II,\n",
    "    'position': 'C'\n",
    "},\n",
    "{\n",
    "    'values': ROTOR_III,\n",
    "    'position': 'K'\n",
    "})\n",
    "\n",
    "print('Desifrovana sprava:', encrypt(encrypted_message))"
   ]
  },
  {
   "cell_type": "markdown",
   "metadata": {},
   "source": [
    "** Ďakujem za pozornosť **\n",
    "\n",
    "*použité zdroje:* \n",
    "* https://sk.wikipedia.org/wiki/Enigma_%28%C5%A1ifrovac%C3%AD_stroj%29\n",
    "* https://en.wikipedia.org/wiki/Enigma_machine\n",
    "* https://en.wikipedia.org/wiki/Enigma_rotor_details\n",
    "* http://mckoss.com/Crypto/Paper%20Enigma.pdf"
   ]
  }
 ],
 "metadata": {
  "kernelspec": {
   "display_name": "Python 3",
   "language": "python",
   "name": "python3"
  },
  "language_info": {
   "codemirror_mode": {
    "name": "ipython",
    "version": 3
   },
   "file_extension": ".py",
   "mimetype": "text/x-python",
   "name": "python",
   "nbconvert_exporter": "python",
   "pygments_lexer": "ipython3",
   "version": "3.4.3"
  }
 },
 "nbformat": 4,
 "nbformat_minor": 0
}
